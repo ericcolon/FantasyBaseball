{
 "cells": [
  {
   "cell_type": "markdown",
   "metadata": {},
   "source": [
    "## Overview\n",
    "\n",
    "This notebook will explore the `pybaseball` package and see if it can be used to create features for a regression model."
   ]
  },
  {
   "cell_type": "code",
   "execution_count": 1,
   "metadata": {
    "ExecuteTime": {
     "end_time": "2018-06-03T02:17:02.987240Z",
     "start_time": "2018-06-03T02:17:02.386825Z"
    }
   },
   "outputs": [],
   "source": [
    "import datetime\n",
    "\n",
    "import pandas as pd\n",
    "    \n",
    "from pybaseball import batting_stats_range_by_id, pitching_stats_by_id"
   ]
  },
  {
   "cell_type": "markdown",
   "metadata": {},
   "source": [
    "## Loading stats accumulated over a date range"
   ]
  },
  {
   "cell_type": "code",
   "execution_count": 2,
   "metadata": {
    "ExecuteTime": {
     "end_time": "2018-06-03T02:17:15.391940Z",
     "start_time": "2018-06-03T02:17:08.767744Z"
    }
   },
   "outputs": [
    {
     "data": {
      "text/html": [
       "<div>\n",
       "<style scoped>\n",
       "    .dataframe tbody tr th:only-of-type {\n",
       "        vertical-align: middle;\n",
       "    }\n",
       "\n",
       "    .dataframe tbody tr th {\n",
       "        vertical-align: top;\n",
       "    }\n",
       "\n",
       "    .dataframe thead th {\n",
       "        text-align: right;\n",
       "    }\n",
       "</style>\n",
       "<table border=\"1\" class=\"dataframe\">\n",
       "  <thead>\n",
       "    <tr style=\"text-align: right;\">\n",
       "      <th></th>\n",
       "      <th>Name</th>\n",
       "      <th>Age</th>\n",
       "      <th>#days</th>\n",
       "      <th>Lev</th>\n",
       "      <th>Tm</th>\n",
       "      <th>G</th>\n",
       "      <th>PA</th>\n",
       "      <th>AB</th>\n",
       "      <th>R</th>\n",
       "      <th>H</th>\n",
       "      <th>...</th>\n",
       "      <th>HBP</th>\n",
       "      <th>SH</th>\n",
       "      <th>SF</th>\n",
       "      <th>GDP</th>\n",
       "      <th>SB</th>\n",
       "      <th>CS</th>\n",
       "      <th>BA</th>\n",
       "      <th>OBP</th>\n",
       "      <th>SLG</th>\n",
       "      <th>OPS</th>\n",
       "    </tr>\n",
       "  </thead>\n",
       "  <tbody>\n",
       "    <tr>\n",
       "      <th>1</th>\n",
       "      <td>547989</td>\n",
       "      <td>30</td>\n",
       "      <td>355</td>\n",
       "      <td>MLB-AL</td>\n",
       "      <td>Chicago</td>\n",
       "      <td>1</td>\n",
       "      <td>4</td>\n",
       "      <td>3</td>\n",
       "      <td>1</td>\n",
       "      <td>0</td>\n",
       "      <td>...</td>\n",
       "      <td>1</td>\n",
       "      <td>0</td>\n",
       "      <td>0</td>\n",
       "      <td>2</td>\n",
       "      <td>0</td>\n",
       "      <td>0</td>\n",
       "      <td>0.000</td>\n",
       "      <td>0.250</td>\n",
       "      <td>0.000</td>\n",
       "      <td>0.250</td>\n",
       "    </tr>\n",
       "    <tr>\n",
       "      <th>2</th>\n",
       "      <td>571431</td>\n",
       "      <td>28</td>\n",
       "      <td>355</td>\n",
       "      <td>MLB-NL</td>\n",
       "      <td>Atlanta</td>\n",
       "      <td>1</td>\n",
       "      <td>4</td>\n",
       "      <td>4</td>\n",
       "      <td>0</td>\n",
       "      <td>0</td>\n",
       "      <td>...</td>\n",
       "      <td>0</td>\n",
       "      <td>0</td>\n",
       "      <td>0</td>\n",
       "      <td>1</td>\n",
       "      <td>0</td>\n",
       "      <td>0</td>\n",
       "      <td>0.000</td>\n",
       "      <td>0.000</td>\n",
       "      <td>0.000</td>\n",
       "      <td>0.000</td>\n",
       "    </tr>\n",
       "    <tr>\n",
       "      <th>3</th>\n",
       "      <td>534947</td>\n",
       "      <td>29</td>\n",
       "      <td>355</td>\n",
       "      <td>MLB-NL</td>\n",
       "      <td>Cincinnati</td>\n",
       "      <td>1</td>\n",
       "      <td>3</td>\n",
       "      <td>3</td>\n",
       "      <td>0</td>\n",
       "      <td>1</td>\n",
       "      <td>...</td>\n",
       "      <td>0</td>\n",
       "      <td>0</td>\n",
       "      <td>0</td>\n",
       "      <td>0</td>\n",
       "      <td>0</td>\n",
       "      <td>0</td>\n",
       "      <td>0.333</td>\n",
       "      <td>0.333</td>\n",
       "      <td>0.333</td>\n",
       "      <td>0.667</td>\n",
       "    </tr>\n",
       "    <tr>\n",
       "      <th>4</th>\n",
       "      <td>501303</td>\n",
       "      <td>27</td>\n",
       "      <td>355</td>\n",
       "      <td>MLB-AL</td>\n",
       "      <td>Minnesota</td>\n",
       "      <td>1</td>\n",
       "      <td>1</td>\n",
       "      <td>0</td>\n",
       "      <td>0</td>\n",
       "      <td>0</td>\n",
       "      <td>...</td>\n",
       "      <td>0</td>\n",
       "      <td>0</td>\n",
       "      <td>0</td>\n",
       "      <td>0</td>\n",
       "      <td>0</td>\n",
       "      <td>0</td>\n",
       "      <td>NaN</td>\n",
       "      <td>1.000</td>\n",
       "      <td>NaN</td>\n",
       "      <td>NaN</td>\n",
       "    </tr>\n",
       "    <tr>\n",
       "      <th>5</th>\n",
       "      <td>542583</td>\n",
       "      <td>27</td>\n",
       "      <td>355</td>\n",
       "      <td>MLB-NL</td>\n",
       "      <td>Milwaukee</td>\n",
       "      <td>1</td>\n",
       "      <td>1</td>\n",
       "      <td>0</td>\n",
       "      <td>0</td>\n",
       "      <td>0</td>\n",
       "      <td>...</td>\n",
       "      <td>0</td>\n",
       "      <td>0</td>\n",
       "      <td>0</td>\n",
       "      <td>0</td>\n",
       "      <td>0</td>\n",
       "      <td>0</td>\n",
       "      <td>NaN</td>\n",
       "      <td>1.000</td>\n",
       "      <td>NaN</td>\n",
       "      <td>NaN</td>\n",
       "    </tr>\n",
       "  </tbody>\n",
       "</table>\n",
       "<p>5 rows × 27 columns</p>\n",
       "</div>"
      ],
      "text/plain": [
       "     Name  Age  #days     Lev          Tm  G  PA  AB  R  H  ...    HBP  SH  \\\n",
       "1  547989   30    355  MLB-AL     Chicago  1   4   3  1  0  ...      1   0   \n",
       "2  571431   28    355  MLB-NL     Atlanta  1   4   4  0  0  ...      0   0   \n",
       "3  534947   29    355  MLB-NL  Cincinnati  1   3   3  0  1  ...      0   0   \n",
       "4  501303   27    355  MLB-AL   Minnesota  1   1   0  0  0  ...      0   0   \n",
       "5  542583   27    355  MLB-NL   Milwaukee  1   1   0  0  0  ...      0   0   \n",
       "\n",
       "   SF  GDP  SB  CS     BA    OBP    SLG    OPS  \n",
       "1   0    2   0   0  0.000  0.250  0.000  0.250  \n",
       "2   0    1   0   0  0.000  0.000  0.000  0.000  \n",
       "3   0    0   0   0  0.333  0.333  0.333  0.667  \n",
       "4   0    0   0   0    NaN  1.000    NaN    NaN  \n",
       "5   0    0   0   0    NaN  1.000    NaN    NaN  \n",
       "\n",
       "[5 rows x 27 columns]"
      ]
     },
     "execution_count": 2,
     "metadata": {},
     "output_type": "execute_result"
    }
   ],
   "source": [
    "data = batting_stats_range_by_id('2017-06-11', '2017-06-11')\n",
    "data.head()"
   ]
  },
  {
   "cell_type": "markdown",
   "metadata": {},
   "source": [
    "## Calculating FD points for a given range\n",
    "\n",
    "Create a function that will take a single row and output the Fanduel score for that player."
   ]
  },
  {
   "cell_type": "code",
   "execution_count": 3,
   "metadata": {
    "ExecuteTime": {
     "end_time": "2018-06-03T02:17:18.453190Z",
     "start_time": "2018-06-03T02:17:18.449046Z"
    }
   },
   "outputs": [],
   "source": [
    "def get_fantasy_points(stats):\n",
    "    singles = stats[\"H\"]-stats[\"2B\"]-stats[\"3B\"]-stats[\"HR\"]\n",
    "    points = 3*singles+3.2*stats[\"R\"]+6*stats[\"2B\"]+9*stats[\"3B\"]+12*stats[\"HR\"]\\\n",
    "            +3.5*stats[\"RBI\"]+3*stats[\"BB\"]+3*stats[\"IBB\"]+3*stats[\"HBP\"]+6*stats[\"SB\"]\n",
    "    return pd.DataFrame({\"Name\": stats[\"Name\"],\n",
    "                         \"FD Points\": points})"
   ]
  },
  {
   "cell_type": "code",
   "execution_count": 4,
   "metadata": {
    "ExecuteTime": {
     "end_time": "2018-06-03T02:17:27.591691Z",
     "start_time": "2018-06-03T02:17:27.219712Z"
    }
   },
   "outputs": [
    {
     "data": {
      "text/html": [
       "<div>\n",
       "<style scoped>\n",
       "    .dataframe tbody tr th:only-of-type {\n",
       "        vertical-align: middle;\n",
       "    }\n",
       "\n",
       "    .dataframe tbody tr th {\n",
       "        vertical-align: top;\n",
       "    }\n",
       "\n",
       "    .dataframe thead th {\n",
       "        text-align: right;\n",
       "    }\n",
       "</style>\n",
       "<table border=\"1\" class=\"dataframe\">\n",
       "  <thead>\n",
       "    <tr style=\"text-align: right;\">\n",
       "      <th></th>\n",
       "      <th>Age</th>\n",
       "      <th>#days</th>\n",
       "      <th>Lev</th>\n",
       "      <th>Tm</th>\n",
       "      <th>G</th>\n",
       "      <th>PA</th>\n",
       "      <th>AB</th>\n",
       "      <th>R</th>\n",
       "      <th>H</th>\n",
       "      <th>2B</th>\n",
       "      <th>...</th>\n",
       "      <th>SH</th>\n",
       "      <th>SF</th>\n",
       "      <th>GDP</th>\n",
       "      <th>SB</th>\n",
       "      <th>CS</th>\n",
       "      <th>BA</th>\n",
       "      <th>OBP</th>\n",
       "      <th>SLG</th>\n",
       "      <th>OPS</th>\n",
       "      <th>FD Points</th>\n",
       "    </tr>\n",
       "    <tr>\n",
       "      <th>Name</th>\n",
       "      <th></th>\n",
       "      <th></th>\n",
       "      <th></th>\n",
       "      <th></th>\n",
       "      <th></th>\n",
       "      <th></th>\n",
       "      <th></th>\n",
       "      <th></th>\n",
       "      <th></th>\n",
       "      <th></th>\n",
       "      <th></th>\n",
       "      <th></th>\n",
       "      <th></th>\n",
       "      <th></th>\n",
       "      <th></th>\n",
       "      <th></th>\n",
       "      <th></th>\n",
       "      <th></th>\n",
       "      <th></th>\n",
       "      <th></th>\n",
       "      <th></th>\n",
       "    </tr>\n",
       "  </thead>\n",
       "  <tbody>\n",
       "    <tr>\n",
       "      <th>547989</th>\n",
       "      <td>30</td>\n",
       "      <td>355</td>\n",
       "      <td>MLB-AL</td>\n",
       "      <td>Chicago</td>\n",
       "      <td>1</td>\n",
       "      <td>4</td>\n",
       "      <td>3</td>\n",
       "      <td>1</td>\n",
       "      <td>0</td>\n",
       "      <td>0</td>\n",
       "      <td>...</td>\n",
       "      <td>0</td>\n",
       "      <td>0</td>\n",
       "      <td>2</td>\n",
       "      <td>0</td>\n",
       "      <td>0</td>\n",
       "      <td>0.000</td>\n",
       "      <td>0.250</td>\n",
       "      <td>0.000</td>\n",
       "      <td>0.250</td>\n",
       "      <td>6.2</td>\n",
       "    </tr>\n",
       "    <tr>\n",
       "      <th>571431</th>\n",
       "      <td>28</td>\n",
       "      <td>355</td>\n",
       "      <td>MLB-NL</td>\n",
       "      <td>Atlanta</td>\n",
       "      <td>1</td>\n",
       "      <td>4</td>\n",
       "      <td>4</td>\n",
       "      <td>0</td>\n",
       "      <td>0</td>\n",
       "      <td>0</td>\n",
       "      <td>...</td>\n",
       "      <td>0</td>\n",
       "      <td>0</td>\n",
       "      <td>1</td>\n",
       "      <td>0</td>\n",
       "      <td>0</td>\n",
       "      <td>0.000</td>\n",
       "      <td>0.000</td>\n",
       "      <td>0.000</td>\n",
       "      <td>0.000</td>\n",
       "      <td>0.0</td>\n",
       "    </tr>\n",
       "    <tr>\n",
       "      <th>534947</th>\n",
       "      <td>29</td>\n",
       "      <td>355</td>\n",
       "      <td>MLB-NL</td>\n",
       "      <td>Cincinnati</td>\n",
       "      <td>1</td>\n",
       "      <td>3</td>\n",
       "      <td>3</td>\n",
       "      <td>0</td>\n",
       "      <td>1</td>\n",
       "      <td>0</td>\n",
       "      <td>...</td>\n",
       "      <td>0</td>\n",
       "      <td>0</td>\n",
       "      <td>0</td>\n",
       "      <td>0</td>\n",
       "      <td>0</td>\n",
       "      <td>0.333</td>\n",
       "      <td>0.333</td>\n",
       "      <td>0.333</td>\n",
       "      <td>0.667</td>\n",
       "      <td>3.0</td>\n",
       "    </tr>\n",
       "    <tr>\n",
       "      <th>501303</th>\n",
       "      <td>27</td>\n",
       "      <td>355</td>\n",
       "      <td>MLB-AL</td>\n",
       "      <td>Minnesota</td>\n",
       "      <td>1</td>\n",
       "      <td>1</td>\n",
       "      <td>0</td>\n",
       "      <td>0</td>\n",
       "      <td>0</td>\n",
       "      <td>0</td>\n",
       "      <td>...</td>\n",
       "      <td>0</td>\n",
       "      <td>0</td>\n",
       "      <td>0</td>\n",
       "      <td>0</td>\n",
       "      <td>0</td>\n",
       "      <td>NaN</td>\n",
       "      <td>1.000</td>\n",
       "      <td>NaN</td>\n",
       "      <td>NaN</td>\n",
       "      <td>3.0</td>\n",
       "    </tr>\n",
       "    <tr>\n",
       "      <th>542583</th>\n",
       "      <td>27</td>\n",
       "      <td>355</td>\n",
       "      <td>MLB-NL</td>\n",
       "      <td>Milwaukee</td>\n",
       "      <td>1</td>\n",
       "      <td>1</td>\n",
       "      <td>0</td>\n",
       "      <td>0</td>\n",
       "      <td>0</td>\n",
       "      <td>0</td>\n",
       "      <td>...</td>\n",
       "      <td>0</td>\n",
       "      <td>0</td>\n",
       "      <td>0</td>\n",
       "      <td>0</td>\n",
       "      <td>0</td>\n",
       "      <td>NaN</td>\n",
       "      <td>1.000</td>\n",
       "      <td>NaN</td>\n",
       "      <td>NaN</td>\n",
       "      <td>3.0</td>\n",
       "    </tr>\n",
       "  </tbody>\n",
       "</table>\n",
       "<p>5 rows × 27 columns</p>\n",
       "</div>"
      ],
      "text/plain": [
       "        Age  #days     Lev          Tm  G  PA  AB  R  H  2B    ...      SH  \\\n",
       "Name                                                           ...           \n",
       "547989   30    355  MLB-AL     Chicago  1   4   3  1  0   0    ...       0   \n",
       "571431   28    355  MLB-NL     Atlanta  1   4   4  0  0   0    ...       0   \n",
       "534947   29    355  MLB-NL  Cincinnati  1   3   3  0  1   0    ...       0   \n",
       "501303   27    355  MLB-AL   Minnesota  1   1   0  0  0   0    ...       0   \n",
       "542583   27    355  MLB-NL   Milwaukee  1   1   0  0  0   0    ...       0   \n",
       "\n",
       "        SF  GDP  SB  CS     BA    OBP    SLG    OPS  FD Points  \n",
       "Name                                                            \n",
       "547989   0    2   0   0  0.000  0.250  0.000  0.250        6.2  \n",
       "571431   0    1   0   0  0.000  0.000  0.000  0.000        0.0  \n",
       "534947   0    0   0   0  0.333  0.333  0.333  0.667        3.0  \n",
       "501303   0    0   0   0    NaN  1.000    NaN    NaN        3.0  \n",
       "542583   0    0   0   0    NaN  1.000    NaN    NaN        3.0  \n",
       "\n",
       "[5 rows x 27 columns]"
      ]
     },
     "execution_count": 4,
     "metadata": {},
     "output_type": "execute_result"
    }
   ],
   "source": [
    "data.set_index(\"Name\").join(get_fantasy_points(data).set_index(\"Name\")).head()"
   ]
  },
  {
   "cell_type": "markdown",
   "metadata": {},
   "source": [
    "### Easily getting stats within a range\n",
    "\n",
    "Rather than passing strings to the argument of `batting_stats_range_by_id()`, a wrapper function will be written that takes a `datetime` and a `timedelta` and gets the stats accumulated within that duration."
   ]
  },
  {
   "cell_type": "code",
   "execution_count": 5,
   "metadata": {
    "ExecuteTime": {
     "end_time": "2018-06-03T02:17:28.960693Z",
     "start_time": "2018-06-03T02:17:28.955164Z"
    }
   },
   "outputs": [
    {
     "name": "stdout",
     "output_type": "stream",
     "text": [
      "2017-06-11\n",
      "2017-06-04\n"
     ]
    }
   ],
   "source": [
    "cur_day = datetime.date(2017, 6, 11)\n",
    "day = datetime.timedelta(days=1)\n",
    "week = datetime.timedelta(days=7)\n",
    "month = datetime.timedelta(days=30)\n",
    "start = cur_day-week\n",
    "print(cur_day)\n",
    "print(start)"
   ]
  },
  {
   "cell_type": "code",
   "execution_count": 46,
   "metadata": {
    "ExecuteTime": {
     "end_time": "2018-06-03T02:37:01.472661Z",
     "start_time": "2018-06-03T02:37:01.460823Z"
    }
   },
   "outputs": [],
   "source": [
    "def get_batting_stats(cur_day, duration, forecasting=False):\n",
    "    try:\n",
    "        yesterday = cur_day-datetime.timedelta(days=1)\n",
    "        if forecasting:\n",
    "            offset = datetime.timedelta(0)\n",
    "        else:\n",
    "            offset = datetime.timedelta(1)\n",
    "\n",
    "        results = batting_stats_range_by_id((cur_day-duration).strftime(\"%Y-%m-%d\"),\n",
    "                                            (cur_day-offset).strftime(\"%Y-%m-%d\")\n",
    "                                           )\n",
    "        results.drop(columns=[\"Tm\", \"Age\", \"#days\", \"Lev\"], inplace=True)\n",
    "        \n",
    "    except IndexError as err:\n",
    "        print(\"{}: Unable to retrieve stats for {} and {} range.\".format(err, cur_day, duration))\n",
    "        cols = ['Name', 'G', 'PA', 'AB', 'R', 'H', '2B', '3B', 'HR', 'RBI', 'BB', 'IBB', \n",
    "                'SO', 'HBP', 'SH', 'SF', 'GDP', 'SB', 'CS', 'BA', 'OBP', 'SLG', 'OPS']\n",
    "        results = pd.DataFrame(columns=cols)\n",
    "    \n",
    "    if not forecasting:\n",
    "        new_names = [(i,str(duration.days)+\"-\"+i) for i in results.iloc[:, 1:].columns.values]\n",
    "        results = results.rename(columns = dict(new_names))\n",
    "        \n",
    "    return results"
   ]
  },
  {
   "cell_type": "code",
   "execution_count": 47,
   "metadata": {
    "ExecuteTime": {
     "end_time": "2018-06-03T02:37:05.596749Z",
     "start_time": "2018-06-03T02:37:02.088323Z"
    }
   },
   "outputs": [],
   "source": [
    "week_df = get_batting_stats(cur_day, week)\n",
    "day_df = get_batting_stats(cur_day, day)"
   ]
  },
  {
   "cell_type": "code",
   "execution_count": 48,
   "metadata": {
    "ExecuteTime": {
     "end_time": "2018-06-03T02:37:05.857145Z",
     "start_time": "2018-06-03T02:37:05.852755Z"
    }
   },
   "outputs": [],
   "source": [
    "from functools import reduce\n",
    "def construct_multi_duration_dataframe(cur_day, durations):\n",
    "    dfs = [get_batting_stats(cur_day, duration, forecasting=False).set_index(\"Name\") for duration in durations]\n",
    "    return reduce(lambda left,right: pd.merge(left,right, how='outer', left_index=True, right_index=True), dfs)"
   ]
  },
  {
   "cell_type": "code",
   "execution_count": 49,
   "metadata": {
    "ExecuteTime": {
     "end_time": "2018-06-03T02:37:08.008915Z",
     "start_time": "2018-06-03T02:37:06.092387Z"
    }
   },
   "outputs": [],
   "source": [
    "results = construct_multi_duration_dataframe(cur_day, [day])"
   ]
  },
  {
   "cell_type": "code",
   "execution_count": 50,
   "metadata": {
    "ExecuteTime": {
     "end_time": "2018-06-03T02:37:08.287700Z",
     "start_time": "2018-06-03T02:37:08.265091Z"
    }
   },
   "outputs": [
    {
     "data": {
      "text/html": [
       "<div>\n",
       "<style scoped>\n",
       "    .dataframe tbody tr th:only-of-type {\n",
       "        vertical-align: middle;\n",
       "    }\n",
       "\n",
       "    .dataframe tbody tr th {\n",
       "        vertical-align: top;\n",
       "    }\n",
       "\n",
       "    .dataframe thead th {\n",
       "        text-align: right;\n",
       "    }\n",
       "</style>\n",
       "<table border=\"1\" class=\"dataframe\">\n",
       "  <thead>\n",
       "    <tr style=\"text-align: right;\">\n",
       "      <th></th>\n",
       "      <th>1-G</th>\n",
       "      <th>1-PA</th>\n",
       "      <th>1-AB</th>\n",
       "      <th>1-R</th>\n",
       "      <th>1-H</th>\n",
       "      <th>1-2B</th>\n",
       "      <th>1-3B</th>\n",
       "      <th>1-HR</th>\n",
       "      <th>1-RBI</th>\n",
       "      <th>1-BB</th>\n",
       "      <th>...</th>\n",
       "      <th>1-HBP</th>\n",
       "      <th>1-SH</th>\n",
       "      <th>1-SF</th>\n",
       "      <th>1-GDP</th>\n",
       "      <th>1-SB</th>\n",
       "      <th>1-CS</th>\n",
       "      <th>1-BA</th>\n",
       "      <th>1-OBP</th>\n",
       "      <th>1-SLG</th>\n",
       "      <th>1-OPS</th>\n",
       "    </tr>\n",
       "    <tr>\n",
       "      <th>Name</th>\n",
       "      <th></th>\n",
       "      <th></th>\n",
       "      <th></th>\n",
       "      <th></th>\n",
       "      <th></th>\n",
       "      <th></th>\n",
       "      <th></th>\n",
       "      <th></th>\n",
       "      <th></th>\n",
       "      <th></th>\n",
       "      <th></th>\n",
       "      <th></th>\n",
       "      <th></th>\n",
       "      <th></th>\n",
       "      <th></th>\n",
       "      <th></th>\n",
       "      <th></th>\n",
       "      <th></th>\n",
       "      <th></th>\n",
       "      <th></th>\n",
       "      <th></th>\n",
       "    </tr>\n",
       "  </thead>\n",
       "  <tbody>\n",
       "    <tr>\n",
       "      <th>547989</th>\n",
       "      <td>1</td>\n",
       "      <td>5</td>\n",
       "      <td>5</td>\n",
       "      <td>1</td>\n",
       "      <td>3</td>\n",
       "      <td>1</td>\n",
       "      <td>0</td>\n",
       "      <td>0</td>\n",
       "      <td>1</td>\n",
       "      <td>0</td>\n",
       "      <td>...</td>\n",
       "      <td>0</td>\n",
       "      <td>0</td>\n",
       "      <td>0</td>\n",
       "      <td>1</td>\n",
       "      <td>0</td>\n",
       "      <td>0</td>\n",
       "      <td>0.600</td>\n",
       "      <td>0.60</td>\n",
       "      <td>0.800</td>\n",
       "      <td>1.400</td>\n",
       "    </tr>\n",
       "    <tr>\n",
       "      <th>572669</th>\n",
       "      <td>2</td>\n",
       "      <td>2</td>\n",
       "      <td>2</td>\n",
       "      <td>0</td>\n",
       "      <td>1</td>\n",
       "      <td>0</td>\n",
       "      <td>0</td>\n",
       "      <td>0</td>\n",
       "      <td>0</td>\n",
       "      <td>0</td>\n",
       "      <td>...</td>\n",
       "      <td>0</td>\n",
       "      <td>0</td>\n",
       "      <td>0</td>\n",
       "      <td>0</td>\n",
       "      <td>0</td>\n",
       "      <td>0</td>\n",
       "      <td>0.500</td>\n",
       "      <td>0.50</td>\n",
       "      <td>0.500</td>\n",
       "      <td>1.000</td>\n",
       "    </tr>\n",
       "    <tr>\n",
       "      <th>571431</th>\n",
       "      <td>2</td>\n",
       "      <td>8</td>\n",
       "      <td>7</td>\n",
       "      <td>0</td>\n",
       "      <td>1</td>\n",
       "      <td>0</td>\n",
       "      <td>0</td>\n",
       "      <td>0</td>\n",
       "      <td>0</td>\n",
       "      <td>1</td>\n",
       "      <td>...</td>\n",
       "      <td>0</td>\n",
       "      <td>0</td>\n",
       "      <td>0</td>\n",
       "      <td>0</td>\n",
       "      <td>0</td>\n",
       "      <td>0</td>\n",
       "      <td>0.143</td>\n",
       "      <td>0.25</td>\n",
       "      <td>0.143</td>\n",
       "      <td>0.393</td>\n",
       "    </tr>\n",
       "    <tr>\n",
       "      <th>501303</th>\n",
       "      <td>1</td>\n",
       "      <td>4</td>\n",
       "      <td>4</td>\n",
       "      <td>0</td>\n",
       "      <td>0</td>\n",
       "      <td>0</td>\n",
       "      <td>0</td>\n",
       "      <td>0</td>\n",
       "      <td>0</td>\n",
       "      <td>0</td>\n",
       "      <td>...</td>\n",
       "      <td>0</td>\n",
       "      <td>0</td>\n",
       "      <td>0</td>\n",
       "      <td>0</td>\n",
       "      <td>0</td>\n",
       "      <td>0</td>\n",
       "      <td>0.000</td>\n",
       "      <td>0.00</td>\n",
       "      <td>0.000</td>\n",
       "      <td>0.000</td>\n",
       "    </tr>\n",
       "    <tr>\n",
       "      <th>542583</th>\n",
       "      <td>1</td>\n",
       "      <td>4</td>\n",
       "      <td>3</td>\n",
       "      <td>1</td>\n",
       "      <td>0</td>\n",
       "      <td>0</td>\n",
       "      <td>0</td>\n",
       "      <td>0</td>\n",
       "      <td>0</td>\n",
       "      <td>0</td>\n",
       "      <td>...</td>\n",
       "      <td>1</td>\n",
       "      <td>0</td>\n",
       "      <td>0</td>\n",
       "      <td>0</td>\n",
       "      <td>0</td>\n",
       "      <td>0</td>\n",
       "      <td>0.000</td>\n",
       "      <td>0.25</td>\n",
       "      <td>0.000</td>\n",
       "      <td>0.250</td>\n",
       "    </tr>\n",
       "  </tbody>\n",
       "</table>\n",
       "<p>5 rows × 22 columns</p>\n",
       "</div>"
      ],
      "text/plain": [
       "        1-G  1-PA  1-AB  1-R  1-H  1-2B  1-3B  1-HR  1-RBI  1-BB  ...    \\\n",
       "Name                                                              ...     \n",
       "547989    1     5     5    1    3     1     0     0      1     0  ...     \n",
       "572669    2     2     2    0    1     0     0     0      0     0  ...     \n",
       "571431    2     8     7    0    1     0     0     0      0     1  ...     \n",
       "501303    1     4     4    0    0     0     0     0      0     0  ...     \n",
       "542583    1     4     3    1    0     0     0     0      0     0  ...     \n",
       "\n",
       "        1-HBP  1-SH  1-SF  1-GDP  1-SB  1-CS   1-BA  1-OBP  1-SLG  1-OPS  \n",
       "Name                                                                      \n",
       "547989      0     0     0      1     0     0  0.600   0.60  0.800  1.400  \n",
       "572669      0     0     0      0     0     0  0.500   0.50  0.500  1.000  \n",
       "571431      0     0     0      0     0     0  0.143   0.25  0.143  0.393  \n",
       "501303      0     0     0      0     0     0  0.000   0.00  0.000  0.000  \n",
       "542583      1     0     0      0     0     0  0.000   0.25  0.000  0.250  \n",
       "\n",
       "[5 rows x 22 columns]"
      ]
     },
     "execution_count": 50,
     "metadata": {},
     "output_type": "execute_result"
    }
   ],
   "source": [
    "results.head()"
   ]
  },
  {
   "cell_type": "code",
   "execution_count": 51,
   "metadata": {
    "ExecuteTime": {
     "end_time": "2018-06-03T02:37:08.542718Z",
     "start_time": "2018-06-03T02:37:08.540104Z"
    }
   },
   "outputs": [],
   "source": [
    "def add_fantasy_points(cur_day, dataframe):\n",
    "    points = get_fantasy_points(get_batting_stats(cur_day,\n",
    "                                                  datetime.timedelta(0), \n",
    "                                                  forecasting=True)).set_index(\"Name\")\n",
    "    return dataframe.join(points)"
   ]
  },
  {
   "cell_type": "code",
   "execution_count": 52,
   "metadata": {
    "ExecuteTime": {
     "end_time": "2018-06-03T02:37:08.797191Z",
     "start_time": "2018-06-03T02:37:08.794753Z"
    }
   },
   "outputs": [],
   "source": [
    "def remove_nan_fd_points(dataframe):\n",
    "    return dataframe[dataframe[\"FD Points\"]>= 0]"
   ]
  },
  {
   "cell_type": "code",
   "execution_count": 53,
   "metadata": {
    "ExecuteTime": {
     "end_time": "2018-06-03T02:37:10.558527Z",
     "start_time": "2018-06-03T02:37:09.041111Z"
    }
   },
   "outputs": [],
   "source": [
    "new_results = add_fantasy_points(cur_day, results)\n",
    "new_results = remove_nan_fd_points(new_results)"
   ]
  },
  {
   "cell_type": "code",
   "execution_count": 54,
   "metadata": {
    "ExecuteTime": {
     "end_time": "2018-06-03T02:37:10.820225Z",
     "start_time": "2018-06-03T02:37:10.801869Z"
    }
   },
   "outputs": [
    {
     "name": "stdout",
     "output_type": "stream",
     "text": [
      "268\n"
     ]
    },
    {
     "data": {
      "text/html": [
       "<div>\n",
       "<style scoped>\n",
       "    .dataframe tbody tr th:only-of-type {\n",
       "        vertical-align: middle;\n",
       "    }\n",
       "\n",
       "    .dataframe tbody tr th {\n",
       "        vertical-align: top;\n",
       "    }\n",
       "\n",
       "    .dataframe thead th {\n",
       "        text-align: right;\n",
       "    }\n",
       "</style>\n",
       "<table border=\"1\" class=\"dataframe\">\n",
       "  <thead>\n",
       "    <tr style=\"text-align: right;\">\n",
       "      <th></th>\n",
       "      <th>1-G</th>\n",
       "      <th>1-PA</th>\n",
       "      <th>1-AB</th>\n",
       "      <th>1-R</th>\n",
       "      <th>1-H</th>\n",
       "      <th>1-2B</th>\n",
       "      <th>1-3B</th>\n",
       "      <th>1-HR</th>\n",
       "      <th>1-RBI</th>\n",
       "      <th>1-BB</th>\n",
       "      <th>...</th>\n",
       "      <th>1-SH</th>\n",
       "      <th>1-SF</th>\n",
       "      <th>1-GDP</th>\n",
       "      <th>1-SB</th>\n",
       "      <th>1-CS</th>\n",
       "      <th>1-BA</th>\n",
       "      <th>1-OBP</th>\n",
       "      <th>1-SLG</th>\n",
       "      <th>1-OPS</th>\n",
       "      <th>FD Points</th>\n",
       "    </tr>\n",
       "    <tr>\n",
       "      <th>Name</th>\n",
       "      <th></th>\n",
       "      <th></th>\n",
       "      <th></th>\n",
       "      <th></th>\n",
       "      <th></th>\n",
       "      <th></th>\n",
       "      <th></th>\n",
       "      <th></th>\n",
       "      <th></th>\n",
       "      <th></th>\n",
       "      <th></th>\n",
       "      <th></th>\n",
       "      <th></th>\n",
       "      <th></th>\n",
       "      <th></th>\n",
       "      <th></th>\n",
       "      <th></th>\n",
       "      <th></th>\n",
       "      <th></th>\n",
       "      <th></th>\n",
       "      <th></th>\n",
       "    </tr>\n",
       "  </thead>\n",
       "  <tbody>\n",
       "    <tr>\n",
       "      <th>547989</th>\n",
       "      <td>1</td>\n",
       "      <td>5</td>\n",
       "      <td>5</td>\n",
       "      <td>1</td>\n",
       "      <td>3</td>\n",
       "      <td>1</td>\n",
       "      <td>0</td>\n",
       "      <td>0</td>\n",
       "      <td>1</td>\n",
       "      <td>0</td>\n",
       "      <td>...</td>\n",
       "      <td>0</td>\n",
       "      <td>0</td>\n",
       "      <td>1</td>\n",
       "      <td>0</td>\n",
       "      <td>0</td>\n",
       "      <td>0.600</td>\n",
       "      <td>0.60</td>\n",
       "      <td>0.800</td>\n",
       "      <td>1.400</td>\n",
       "      <td>6.2</td>\n",
       "    </tr>\n",
       "    <tr>\n",
       "      <th>571431</th>\n",
       "      <td>2</td>\n",
       "      <td>8</td>\n",
       "      <td>7</td>\n",
       "      <td>0</td>\n",
       "      <td>1</td>\n",
       "      <td>0</td>\n",
       "      <td>0</td>\n",
       "      <td>0</td>\n",
       "      <td>0</td>\n",
       "      <td>1</td>\n",
       "      <td>...</td>\n",
       "      <td>0</td>\n",
       "      <td>0</td>\n",
       "      <td>0</td>\n",
       "      <td>0</td>\n",
       "      <td>0</td>\n",
       "      <td>0.143</td>\n",
       "      <td>0.25</td>\n",
       "      <td>0.143</td>\n",
       "      <td>0.393</td>\n",
       "      <td>0.0</td>\n",
       "    </tr>\n",
       "    <tr>\n",
       "      <th>501303</th>\n",
       "      <td>1</td>\n",
       "      <td>4</td>\n",
       "      <td>4</td>\n",
       "      <td>0</td>\n",
       "      <td>0</td>\n",
       "      <td>0</td>\n",
       "      <td>0</td>\n",
       "      <td>0</td>\n",
       "      <td>0</td>\n",
       "      <td>0</td>\n",
       "      <td>...</td>\n",
       "      <td>0</td>\n",
       "      <td>0</td>\n",
       "      <td>0</td>\n",
       "      <td>0</td>\n",
       "      <td>0</td>\n",
       "      <td>0.000</td>\n",
       "      <td>0.00</td>\n",
       "      <td>0.000</td>\n",
       "      <td>0.000</td>\n",
       "      <td>3.0</td>\n",
       "    </tr>\n",
       "    <tr>\n",
       "      <th>542583</th>\n",
       "      <td>1</td>\n",
       "      <td>4</td>\n",
       "      <td>3</td>\n",
       "      <td>1</td>\n",
       "      <td>0</td>\n",
       "      <td>0</td>\n",
       "      <td>0</td>\n",
       "      <td>0</td>\n",
       "      <td>0</td>\n",
       "      <td>0</td>\n",
       "      <td>...</td>\n",
       "      <td>0</td>\n",
       "      <td>0</td>\n",
       "      <td>0</td>\n",
       "      <td>0</td>\n",
       "      <td>0</td>\n",
       "      <td>0.000</td>\n",
       "      <td>0.25</td>\n",
       "      <td>0.000</td>\n",
       "      <td>0.250</td>\n",
       "      <td>3.0</td>\n",
       "    </tr>\n",
       "    <tr>\n",
       "      <th>475174</th>\n",
       "      <td>2</td>\n",
       "      <td>10</td>\n",
       "      <td>10</td>\n",
       "      <td>1</td>\n",
       "      <td>7</td>\n",
       "      <td>2</td>\n",
       "      <td>0</td>\n",
       "      <td>0</td>\n",
       "      <td>2</td>\n",
       "      <td>0</td>\n",
       "      <td>...</td>\n",
       "      <td>0</td>\n",
       "      <td>0</td>\n",
       "      <td>0</td>\n",
       "      <td>0</td>\n",
       "      <td>0</td>\n",
       "      <td>0.700</td>\n",
       "      <td>0.70</td>\n",
       "      <td>0.900</td>\n",
       "      <td>1.600</td>\n",
       "      <td>12.4</td>\n",
       "    </tr>\n",
       "  </tbody>\n",
       "</table>\n",
       "<p>5 rows × 23 columns</p>\n",
       "</div>"
      ],
      "text/plain": [
       "        1-G  1-PA  1-AB  1-R  1-H  1-2B  1-3B  1-HR  1-RBI  1-BB    ...      \\\n",
       "Name                                                                ...       \n",
       "547989    1     5     5    1    3     1     0     0      1     0    ...       \n",
       "571431    2     8     7    0    1     0     0     0      0     1    ...       \n",
       "501303    1     4     4    0    0     0     0     0      0     0    ...       \n",
       "542583    1     4     3    1    0     0     0     0      0     0    ...       \n",
       "475174    2    10    10    1    7     2     0     0      2     0    ...       \n",
       "\n",
       "        1-SH  1-SF  1-GDP  1-SB  1-CS   1-BA  1-OBP  1-SLG  1-OPS  FD Points  \n",
       "Name                                                                          \n",
       "547989     0     0      1     0     0  0.600   0.60  0.800  1.400        6.2  \n",
       "571431     0     0      0     0     0  0.143   0.25  0.143  0.393        0.0  \n",
       "501303     0     0      0     0     0  0.000   0.00  0.000  0.000        3.0  \n",
       "542583     0     0      0     0     0  0.000   0.25  0.000  0.250        3.0  \n",
       "475174     0     0      0     0     0  0.700   0.70  0.900  1.600       12.4  \n",
       "\n",
       "[5 rows x 23 columns]"
      ]
     },
     "execution_count": 54,
     "metadata": {},
     "output_type": "execute_result"
    }
   ],
   "source": [
    "print(len(new_results))\n",
    "new_results.head()"
   ]
  },
  {
   "cell_type": "code",
   "execution_count": 55,
   "metadata": {
    "ExecuteTime": {
     "end_time": "2018-06-03T02:37:11.069698Z",
     "start_time": "2018-06-03T02:37:11.067813Z"
    }
   },
   "outputs": [],
   "source": [
    "# TODO: set NaN to 0\n",
    "# TODO: for one day, get fd_dataframe. do it again for the next day, then reset_index, remove names, and append dfs"
   ]
  },
  {
   "cell_type": "markdown",
   "metadata": {},
   "source": [
    "## Excluding pitchers"
   ]
  },
  {
   "cell_type": "code",
   "execution_count": 57,
   "metadata": {
    "ExecuteTime": {
     "end_time": "2018-06-03T02:37:50.226483Z",
     "start_time": "2018-06-03T02:37:22.611353Z"
    }
   },
   "outputs": [],
   "source": [
    "pitchers_17 = pitching_stats_by_id(2017, qual=3)[\"Name\"].tolist()\n",
    "pitchers_18 = pitching_stats_by_id(2018, qual=3)[\"Name\"].tolist()"
   ]
  },
  {
   "cell_type": "code",
   "execution_count": 67,
   "metadata": {
    "ExecuteTime": {
     "end_time": "2018-06-03T02:43:45.094994Z",
     "start_time": "2018-06-03T02:43:45.092202Z"
    }
   },
   "outputs": [],
   "source": [
    "def drop_pitchers(dataframe, pitchers):\n",
    "    \"\"\"\n",
    "    :param dataframe: dataframe of players and stats\n",
    "    :param pitchers: list of BBRef IDs for pitchers\n",
    "    \"\"\"\n",
    "    return dataframe.drop(pitchers, errors='ignore')"
   ]
  },
  {
   "cell_type": "code",
   "execution_count": 68,
   "metadata": {
    "ExecuteTime": {
     "end_time": "2018-06-03T02:43:50.395839Z",
     "start_time": "2018-06-03T02:43:45.739156Z"
    }
   },
   "outputs": [
    {
     "name": "stdout",
     "output_type": "stream",
     "text": [
      "468\n",
      "192\n"
     ]
    }
   ],
   "source": [
    "today = datetime.date(2017, 7, 20)\n",
    "yesterday = datetime.date(2017, 7, 19)\n",
    "\n",
    "df2 = construct_multi_duration_dataframe(today, [day, week])\n",
    "print(len(df2))\n",
    "df2 = add_fantasy_points(today, df2)\n",
    "df2 = remove_nan_fd_points(df2)\n",
    "df2 = drop_pitchers(df2, pitchers_17)\n",
    "print(len(df2))"
   ]
  },
  {
   "cell_type": "code",
   "execution_count": 69,
   "metadata": {
    "ExecuteTime": {
     "end_time": "2018-06-03T02:43:50.664143Z",
     "start_time": "2018-06-03T02:43:50.642154Z"
    }
   },
   "outputs": [
    {
     "data": {
      "text/html": [
       "<div>\n",
       "<style scoped>\n",
       "    .dataframe tbody tr th:only-of-type {\n",
       "        vertical-align: middle;\n",
       "    }\n",
       "\n",
       "    .dataframe tbody tr th {\n",
       "        vertical-align: top;\n",
       "    }\n",
       "\n",
       "    .dataframe thead th {\n",
       "        text-align: right;\n",
       "    }\n",
       "</style>\n",
       "<table border=\"1\" class=\"dataframe\">\n",
       "  <thead>\n",
       "    <tr style=\"text-align: right;\">\n",
       "      <th></th>\n",
       "      <th>1-G</th>\n",
       "      <th>1-PA</th>\n",
       "      <th>1-AB</th>\n",
       "      <th>1-R</th>\n",
       "      <th>1-H</th>\n",
       "      <th>1-2B</th>\n",
       "      <th>1-3B</th>\n",
       "      <th>1-HR</th>\n",
       "      <th>1-RBI</th>\n",
       "      <th>1-BB</th>\n",
       "      <th>...</th>\n",
       "      <th>7-SH</th>\n",
       "      <th>7-SF</th>\n",
       "      <th>7-GDP</th>\n",
       "      <th>7-SB</th>\n",
       "      <th>7-CS</th>\n",
       "      <th>7-BA</th>\n",
       "      <th>7-OBP</th>\n",
       "      <th>7-SLG</th>\n",
       "      <th>7-OPS</th>\n",
       "      <th>FD Points</th>\n",
       "    </tr>\n",
       "    <tr>\n",
       "      <th>Name</th>\n",
       "      <th></th>\n",
       "      <th></th>\n",
       "      <th></th>\n",
       "      <th></th>\n",
       "      <th></th>\n",
       "      <th></th>\n",
       "      <th></th>\n",
       "      <th></th>\n",
       "      <th></th>\n",
       "      <th></th>\n",
       "      <th></th>\n",
       "      <th></th>\n",
       "      <th></th>\n",
       "      <th></th>\n",
       "      <th></th>\n",
       "      <th></th>\n",
       "      <th></th>\n",
       "      <th></th>\n",
       "      <th></th>\n",
       "      <th></th>\n",
       "      <th></th>\n",
       "    </tr>\n",
       "  </thead>\n",
       "  <tbody>\n",
       "    <tr>\n",
       "      <th>134181</th>\n",
       "      <td>1.0</td>\n",
       "      <td>4.0</td>\n",
       "      <td>4.0</td>\n",
       "      <td>0.0</td>\n",
       "      <td>1.0</td>\n",
       "      <td>1.0</td>\n",
       "      <td>0.0</td>\n",
       "      <td>0.0</td>\n",
       "      <td>0.0</td>\n",
       "      <td>0.0</td>\n",
       "      <td>...</td>\n",
       "      <td>0</td>\n",
       "      <td>0</td>\n",
       "      <td>0</td>\n",
       "      <td>0</td>\n",
       "      <td>0</td>\n",
       "      <td>0.227</td>\n",
       "      <td>0.261</td>\n",
       "      <td>0.409</td>\n",
       "      <td>0.670</td>\n",
       "      <td>12.7</td>\n",
       "    </tr>\n",
       "    <tr>\n",
       "      <th>400121</th>\n",
       "      <td>1.0</td>\n",
       "      <td>4.0</td>\n",
       "      <td>2.0</td>\n",
       "      <td>0.0</td>\n",
       "      <td>0.0</td>\n",
       "      <td>0.0</td>\n",
       "      <td>0.0</td>\n",
       "      <td>0.0</td>\n",
       "      <td>0.0</td>\n",
       "      <td>2.0</td>\n",
       "      <td>...</td>\n",
       "      <td>0</td>\n",
       "      <td>0</td>\n",
       "      <td>0</td>\n",
       "      <td>0</td>\n",
       "      <td>0</td>\n",
       "      <td>0.348</td>\n",
       "      <td>0.444</td>\n",
       "      <td>0.391</td>\n",
       "      <td>0.836</td>\n",
       "      <td>6.2</td>\n",
       "    </tr>\n",
       "    <tr>\n",
       "      <th>400284</th>\n",
       "      <td>1.0</td>\n",
       "      <td>1.0</td>\n",
       "      <td>1.0</td>\n",
       "      <td>0.0</td>\n",
       "      <td>0.0</td>\n",
       "      <td>0.0</td>\n",
       "      <td>0.0</td>\n",
       "      <td>0.0</td>\n",
       "      <td>0.0</td>\n",
       "      <td>0.0</td>\n",
       "      <td>...</td>\n",
       "      <td>0</td>\n",
       "      <td>0</td>\n",
       "      <td>0</td>\n",
       "      <td>0</td>\n",
       "      <td>0</td>\n",
       "      <td>0.167</td>\n",
       "      <td>0.286</td>\n",
       "      <td>0.167</td>\n",
       "      <td>0.452</td>\n",
       "      <td>6.0</td>\n",
       "    </tr>\n",
       "    <tr>\n",
       "      <th>407812</th>\n",
       "      <td>NaN</td>\n",
       "      <td>NaN</td>\n",
       "      <td>NaN</td>\n",
       "      <td>NaN</td>\n",
       "      <td>NaN</td>\n",
       "      <td>NaN</td>\n",
       "      <td>NaN</td>\n",
       "      <td>NaN</td>\n",
       "      <td>NaN</td>\n",
       "      <td>NaN</td>\n",
       "      <td>...</td>\n",
       "      <td>0</td>\n",
       "      <td>0</td>\n",
       "      <td>2</td>\n",
       "      <td>0</td>\n",
       "      <td>0</td>\n",
       "      <td>0.107</td>\n",
       "      <td>0.138</td>\n",
       "      <td>0.214</td>\n",
       "      <td>0.352</td>\n",
       "      <td>0.0</td>\n",
       "    </tr>\n",
       "    <tr>\n",
       "      <th>408234</th>\n",
       "      <td>1.0</td>\n",
       "      <td>4.0</td>\n",
       "      <td>4.0</td>\n",
       "      <td>0.0</td>\n",
       "      <td>0.0</td>\n",
       "      <td>0.0</td>\n",
       "      <td>0.0</td>\n",
       "      <td>0.0</td>\n",
       "      <td>1.0</td>\n",
       "      <td>0.0</td>\n",
       "      <td>...</td>\n",
       "      <td>0</td>\n",
       "      <td>1</td>\n",
       "      <td>1</td>\n",
       "      <td>0</td>\n",
       "      <td>0</td>\n",
       "      <td>0.240</td>\n",
       "      <td>0.310</td>\n",
       "      <td>0.360</td>\n",
       "      <td>0.670</td>\n",
       "      <td>6.5</td>\n",
       "    </tr>\n",
       "  </tbody>\n",
       "</table>\n",
       "<p>5 rows × 45 columns</p>\n",
       "</div>"
      ],
      "text/plain": [
       "        1-G  1-PA  1-AB  1-R  1-H  1-2B  1-3B  1-HR  1-RBI  1-BB    ...      \\\n",
       "Name                                                                ...       \n",
       "134181  1.0   4.0   4.0  0.0  1.0   1.0   0.0   0.0    0.0   0.0    ...       \n",
       "400121  1.0   4.0   2.0  0.0  0.0   0.0   0.0   0.0    0.0   2.0    ...       \n",
       "400284  1.0   1.0   1.0  0.0  0.0   0.0   0.0   0.0    0.0   0.0    ...       \n",
       "407812  NaN   NaN   NaN  NaN  NaN   NaN   NaN   NaN    NaN   NaN    ...       \n",
       "408234  1.0   4.0   4.0  0.0  0.0   0.0   0.0   0.0    1.0   0.0    ...       \n",
       "\n",
       "        7-SH  7-SF  7-GDP  7-SB  7-CS   7-BA  7-OBP  7-SLG  7-OPS  FD Points  \n",
       "Name                                                                          \n",
       "134181     0     0      0     0     0  0.227  0.261  0.409  0.670       12.7  \n",
       "400121     0     0      0     0     0  0.348  0.444  0.391  0.836        6.2  \n",
       "400284     0     0      0     0     0  0.167  0.286  0.167  0.452        6.0  \n",
       "407812     0     0      2     0     0  0.107  0.138  0.214  0.352        0.0  \n",
       "408234     0     1      1     0     0  0.240  0.310  0.360  0.670        6.5  \n",
       "\n",
       "[5 rows x 45 columns]"
      ]
     },
     "execution_count": 69,
     "metadata": {},
     "output_type": "execute_result"
    }
   ],
   "source": [
    "df2.head()"
   ]
  },
  {
   "cell_type": "markdown",
   "metadata": {},
   "source": [
    "## Setting NaN to 0"
   ]
  },
  {
   "cell_type": "code",
   "execution_count": 70,
   "metadata": {
    "ExecuteTime": {
     "end_time": "2018-06-03T02:55:08.143409Z",
     "start_time": "2018-06-03T02:55:08.141297Z"
    }
   },
   "outputs": [],
   "source": [
    "def replace_nan(dataframe):\n",
    "    return dataframe.fillna(0)"
   ]
  },
  {
   "cell_type": "code",
   "execution_count": 71,
   "metadata": {
    "ExecuteTime": {
     "end_time": "2018-06-03T02:55:24.383294Z",
     "start_time": "2018-06-03T02:55:24.362005Z"
    }
   },
   "outputs": [
    {
     "data": {
      "text/html": [
       "<div>\n",
       "<style scoped>\n",
       "    .dataframe tbody tr th:only-of-type {\n",
       "        vertical-align: middle;\n",
       "    }\n",
       "\n",
       "    .dataframe tbody tr th {\n",
       "        vertical-align: top;\n",
       "    }\n",
       "\n",
       "    .dataframe thead th {\n",
       "        text-align: right;\n",
       "    }\n",
       "</style>\n",
       "<table border=\"1\" class=\"dataframe\">\n",
       "  <thead>\n",
       "    <tr style=\"text-align: right;\">\n",
       "      <th></th>\n",
       "      <th>1-G</th>\n",
       "      <th>1-PA</th>\n",
       "      <th>1-AB</th>\n",
       "      <th>1-R</th>\n",
       "      <th>1-H</th>\n",
       "      <th>1-2B</th>\n",
       "      <th>1-3B</th>\n",
       "      <th>1-HR</th>\n",
       "      <th>1-RBI</th>\n",
       "      <th>1-BB</th>\n",
       "      <th>...</th>\n",
       "      <th>7-SH</th>\n",
       "      <th>7-SF</th>\n",
       "      <th>7-GDP</th>\n",
       "      <th>7-SB</th>\n",
       "      <th>7-CS</th>\n",
       "      <th>7-BA</th>\n",
       "      <th>7-OBP</th>\n",
       "      <th>7-SLG</th>\n",
       "      <th>7-OPS</th>\n",
       "      <th>FD Points</th>\n",
       "    </tr>\n",
       "    <tr>\n",
       "      <th>Name</th>\n",
       "      <th></th>\n",
       "      <th></th>\n",
       "      <th></th>\n",
       "      <th></th>\n",
       "      <th></th>\n",
       "      <th></th>\n",
       "      <th></th>\n",
       "      <th></th>\n",
       "      <th></th>\n",
       "      <th></th>\n",
       "      <th></th>\n",
       "      <th></th>\n",
       "      <th></th>\n",
       "      <th></th>\n",
       "      <th></th>\n",
       "      <th></th>\n",
       "      <th></th>\n",
       "      <th></th>\n",
       "      <th></th>\n",
       "      <th></th>\n",
       "      <th></th>\n",
       "    </tr>\n",
       "  </thead>\n",
       "  <tbody>\n",
       "    <tr>\n",
       "      <th>134181</th>\n",
       "      <td>1.0</td>\n",
       "      <td>4.0</td>\n",
       "      <td>4.0</td>\n",
       "      <td>0.0</td>\n",
       "      <td>1.0</td>\n",
       "      <td>1.0</td>\n",
       "      <td>0.0</td>\n",
       "      <td>0.0</td>\n",
       "      <td>0.0</td>\n",
       "      <td>0.0</td>\n",
       "      <td>...</td>\n",
       "      <td>0</td>\n",
       "      <td>0</td>\n",
       "      <td>0</td>\n",
       "      <td>0</td>\n",
       "      <td>0</td>\n",
       "      <td>0.227</td>\n",
       "      <td>0.261</td>\n",
       "      <td>0.409</td>\n",
       "      <td>0.670</td>\n",
       "      <td>12.7</td>\n",
       "    </tr>\n",
       "    <tr>\n",
       "      <th>400121</th>\n",
       "      <td>1.0</td>\n",
       "      <td>4.0</td>\n",
       "      <td>2.0</td>\n",
       "      <td>0.0</td>\n",
       "      <td>0.0</td>\n",
       "      <td>0.0</td>\n",
       "      <td>0.0</td>\n",
       "      <td>0.0</td>\n",
       "      <td>0.0</td>\n",
       "      <td>2.0</td>\n",
       "      <td>...</td>\n",
       "      <td>0</td>\n",
       "      <td>0</td>\n",
       "      <td>0</td>\n",
       "      <td>0</td>\n",
       "      <td>0</td>\n",
       "      <td>0.348</td>\n",
       "      <td>0.444</td>\n",
       "      <td>0.391</td>\n",
       "      <td>0.836</td>\n",
       "      <td>6.2</td>\n",
       "    </tr>\n",
       "    <tr>\n",
       "      <th>400284</th>\n",
       "      <td>1.0</td>\n",
       "      <td>1.0</td>\n",
       "      <td>1.0</td>\n",
       "      <td>0.0</td>\n",
       "      <td>0.0</td>\n",
       "      <td>0.0</td>\n",
       "      <td>0.0</td>\n",
       "      <td>0.0</td>\n",
       "      <td>0.0</td>\n",
       "      <td>0.0</td>\n",
       "      <td>...</td>\n",
       "      <td>0</td>\n",
       "      <td>0</td>\n",
       "      <td>0</td>\n",
       "      <td>0</td>\n",
       "      <td>0</td>\n",
       "      <td>0.167</td>\n",
       "      <td>0.286</td>\n",
       "      <td>0.167</td>\n",
       "      <td>0.452</td>\n",
       "      <td>6.0</td>\n",
       "    </tr>\n",
       "    <tr>\n",
       "      <th>407812</th>\n",
       "      <td>0.0</td>\n",
       "      <td>0.0</td>\n",
       "      <td>0.0</td>\n",
       "      <td>0.0</td>\n",
       "      <td>0.0</td>\n",
       "      <td>0.0</td>\n",
       "      <td>0.0</td>\n",
       "      <td>0.0</td>\n",
       "      <td>0.0</td>\n",
       "      <td>0.0</td>\n",
       "      <td>...</td>\n",
       "      <td>0</td>\n",
       "      <td>0</td>\n",
       "      <td>2</td>\n",
       "      <td>0</td>\n",
       "      <td>0</td>\n",
       "      <td>0.107</td>\n",
       "      <td>0.138</td>\n",
       "      <td>0.214</td>\n",
       "      <td>0.352</td>\n",
       "      <td>0.0</td>\n",
       "    </tr>\n",
       "    <tr>\n",
       "      <th>408234</th>\n",
       "      <td>1.0</td>\n",
       "      <td>4.0</td>\n",
       "      <td>4.0</td>\n",
       "      <td>0.0</td>\n",
       "      <td>0.0</td>\n",
       "      <td>0.0</td>\n",
       "      <td>0.0</td>\n",
       "      <td>0.0</td>\n",
       "      <td>1.0</td>\n",
       "      <td>0.0</td>\n",
       "      <td>...</td>\n",
       "      <td>0</td>\n",
       "      <td>1</td>\n",
       "      <td>1</td>\n",
       "      <td>0</td>\n",
       "      <td>0</td>\n",
       "      <td>0.240</td>\n",
       "      <td>0.310</td>\n",
       "      <td>0.360</td>\n",
       "      <td>0.670</td>\n",
       "      <td>6.5</td>\n",
       "    </tr>\n",
       "  </tbody>\n",
       "</table>\n",
       "<p>5 rows × 45 columns</p>\n",
       "</div>"
      ],
      "text/plain": [
       "        1-G  1-PA  1-AB  1-R  1-H  1-2B  1-3B  1-HR  1-RBI  1-BB    ...      \\\n",
       "Name                                                                ...       \n",
       "134181  1.0   4.0   4.0  0.0  1.0   1.0   0.0   0.0    0.0   0.0    ...       \n",
       "400121  1.0   4.0   2.0  0.0  0.0   0.0   0.0   0.0    0.0   2.0    ...       \n",
       "400284  1.0   1.0   1.0  0.0  0.0   0.0   0.0   0.0    0.0   0.0    ...       \n",
       "407812  0.0   0.0   0.0  0.0  0.0   0.0   0.0   0.0    0.0   0.0    ...       \n",
       "408234  1.0   4.0   4.0  0.0  0.0   0.0   0.0   0.0    1.0   0.0    ...       \n",
       "\n",
       "        7-SH  7-SF  7-GDP  7-SB  7-CS   7-BA  7-OBP  7-SLG  7-OPS  FD Points  \n",
       "Name                                                                          \n",
       "134181     0     0      0     0     0  0.227  0.261  0.409  0.670       12.7  \n",
       "400121     0     0      0     0     0  0.348  0.444  0.391  0.836        6.2  \n",
       "400284     0     0      0     0     0  0.167  0.286  0.167  0.452        6.0  \n",
       "407812     0     0      2     0     0  0.107  0.138  0.214  0.352        0.0  \n",
       "408234     0     1      1     0     0  0.240  0.310  0.360  0.670        6.5  \n",
       "\n",
       "[5 rows x 45 columns]"
      ]
     },
     "execution_count": 71,
     "metadata": {},
     "output_type": "execute_result"
    }
   ],
   "source": [
    "df2 = replace_nan(df2)\n",
    "df2.head()"
   ]
  },
  {
   "cell_type": "markdown",
   "metadata": {},
   "source": [
    "## Getting and combining dataframes"
   ]
  },
  {
   "cell_type": "code",
   "execution_count": 73,
   "metadata": {
    "ExecuteTime": {
     "end_time": "2018-06-03T03:08:43.004603Z",
     "start_time": "2018-06-03T03:08:43.000253Z"
    }
   },
   "outputs": [],
   "source": [
    "def get_dataframe(current_day, durations, pitchers):\n",
    "    df = construct_multi_duration_dataframe(current_day, durations)\n",
    "    df = add_fantasy_points(current_day, df)\n",
    "    df = remove_nan_fd_points(df)\n",
    "    df = drop_pitchers(df, pitchers)\n",
    "    df = replace_nan(df)\n",
    "    return df"
   ]
  },
  {
   "cell_type": "code",
   "execution_count": 72,
   "metadata": {
    "ExecuteTime": {
     "end_time": "2018-06-03T03:05:40.174816Z",
     "start_time": "2018-06-03T03:05:40.172574Z"
    }
   },
   "outputs": [],
   "source": [
    "def combine_dataframes(dataframes):\n",
    "    return pd.concat(dataframes).reset_index()"
   ]
  },
  {
   "cell_type": "code",
   "execution_count": 80,
   "metadata": {
    "ExecuteTime": {
     "end_time": "2018-06-03T03:12:06.818774Z",
     "start_time": "2018-06-03T03:11:44.418065Z"
    }
   },
   "outputs": [
    {
     "name": "stdout",
     "output_type": "stream",
     "text": [
      "Length of df1: 192\n",
      "Length of df2: 317\n",
      "Length of df3: 313\n"
     ]
    }
   ],
   "source": [
    "df1 = get_dataframe(today, [day, week], pitchers_17)\n",
    "df2 = get_dataframe(today+day, [day, week], pitchers_17)\n",
    "df3 = get_dataframe(today+day+day, [day, week], pitchers_17)\n",
    "print(\"Length of df1: {}\".format(len(df1)))\n",
    "print(\"Length of df2: {}\".format(len(df2)))\n",
    "print(\"Length of df3: {}\".format(len(df3)))"
   ]
  },
  {
   "cell_type": "code",
   "execution_count": 81,
   "metadata": {
    "ExecuteTime": {
     "end_time": "2018-06-03T03:12:07.188731Z",
     "start_time": "2018-06-03T03:12:07.182232Z"
    }
   },
   "outputs": [
    {
     "data": {
      "text/plain": [
       "822"
      ]
     },
     "execution_count": 81,
     "metadata": {},
     "output_type": "execute_result"
    }
   ],
   "source": [
    "len(combine_dataframes([df1, df2, df3]))"
   ]
  },
  {
   "cell_type": "markdown",
   "metadata": {},
   "source": [
    "## Creating train/test set"
   ]
  },
  {
   "cell_type": "code",
   "execution_count": 151,
   "metadata": {
    "ExecuteTime": {
     "end_time": "2018-06-03T04:43:03.871952Z",
     "start_time": "2018-06-03T04:43:03.860831Z"
    }
   },
   "outputs": [],
   "source": [
    "def retrieve_data(years):\n",
    "    dfs = []\n",
    "    day = datetime.timedelta(days=1)\n",
    "    week = datetime.timedelta(days=7)\n",
    "    month = datetime.timedelta(days=30)\n",
    "    for year in years:\n",
    "        print(\"Downloading pitchers for {} season.\".format(year))\n",
    "        pitchers = pitching_stats_by_id(year, qual=3)[\"Name\"].tolist()\n",
    "        print(\"Downloaded list of {} pitchers.\".format(len(pitchers)))\n",
    "        starting_date = datetime.date(year, 4, 20)\n",
    "        date_list = [starting_date + datetime.timedelta(days=x) \n",
    "                     for x in range(0, (datetime.date(year, 9, 30)-starting_date).days)]\n",
    "#         date_list = [starting_date + datetime.timedelta(days=x) \n",
    "#                      for x in range(0, (datetime.date(year, 6, 27)-starting_date).days)]\n",
    "        for idx, today in enumerate(date_list):\n",
    "            print(\"{}/{} - Downloading data for {}\".format(idx+1, len(date_list), today))\n",
    "            try:\n",
    "                df = get_dataframe(today, [day, week, month], pitchers)\n",
    "                dfs.append(df)\n",
    "            except Exception as err:\n",
    "                print(\"{} - {}\".format(today, err))\n",
    "    return combine_dataframes(dfs)"
   ]
  },
  {
   "cell_type": "code",
   "execution_count": 152,
   "metadata": {
    "ExecuteTime": {
     "end_time": "2018-06-03T05:23:23.895854Z",
     "start_time": "2018-06-03T04:43:05.385114Z"
    }
   },
   "outputs": [
    {
     "name": "stdout",
     "output_type": "stream",
     "text": [
      "Downloading pitchers for 2017 season.\n",
      "Downloaded list of 701 pitchers.\n",
      "1/163 - Downloading data for 2017-04-20\n",
      "2/163 - Downloading data for 2017-04-21\n",
      "3/163 - Downloading data for 2017-04-22\n",
      "4/163 - Downloading data for 2017-04-23\n",
      "5/163 - Downloading data for 2017-04-24\n",
      "6/163 - Downloading data for 2017-04-25\n",
      "7/163 - Downloading data for 2017-04-26\n",
      "8/163 - Downloading data for 2017-04-27\n",
      "9/163 - Downloading data for 2017-04-28\n",
      "10/163 - Downloading data for 2017-04-29\n",
      "11/163 - Downloading data for 2017-04-30\n",
      "12/163 - Downloading data for 2017-05-01\n",
      "13/163 - Downloading data for 2017-05-02\n",
      "14/163 - Downloading data for 2017-05-03\n",
      "15/163 - Downloading data for 2017-05-04\n",
      "16/163 - Downloading data for 2017-05-05\n",
      "17/163 - Downloading data for 2017-05-06\n",
      "18/163 - Downloading data for 2017-05-07\n",
      "19/163 - Downloading data for 2017-05-08\n",
      "20/163 - Downloading data for 2017-05-09\n",
      "21/163 - Downloading data for 2017-05-10\n",
      "22/163 - Downloading data for 2017-05-11\n",
      "23/163 - Downloading data for 2017-05-12\n",
      "24/163 - Downloading data for 2017-05-13\n",
      "25/163 - Downloading data for 2017-05-14\n",
      "26/163 - Downloading data for 2017-05-15\n",
      "27/163 - Downloading data for 2017-05-16\n",
      "28/163 - Downloading data for 2017-05-17\n",
      "29/163 - Downloading data for 2017-05-18\n",
      "30/163 - Downloading data for 2017-05-19\n",
      "31/163 - Downloading data for 2017-05-20\n",
      "32/163 - Downloading data for 2017-05-21\n",
      "33/163 - Downloading data for 2017-05-22\n",
      "34/163 - Downloading data for 2017-05-23\n",
      "35/163 - Downloading data for 2017-05-24\n",
      "36/163 - Downloading data for 2017-05-25\n",
      "37/163 - Downloading data for 2017-05-26\n",
      "38/163 - Downloading data for 2017-05-27\n",
      "39/163 - Downloading data for 2017-05-28\n",
      "40/163 - Downloading data for 2017-05-29\n",
      "41/163 - Downloading data for 2017-05-30\n",
      "42/163 - Downloading data for 2017-05-31\n",
      "43/163 - Downloading data for 2017-06-01\n",
      "44/163 - Downloading data for 2017-06-02\n",
      "45/163 - Downloading data for 2017-06-03\n",
      "46/163 - Downloading data for 2017-06-04\n",
      "47/163 - Downloading data for 2017-06-05\n",
      "48/163 - Downloading data for 2017-06-06\n",
      "49/163 - Downloading data for 2017-06-07\n",
      "50/163 - Downloading data for 2017-06-08\n",
      "51/163 - Downloading data for 2017-06-09\n",
      "52/163 - Downloading data for 2017-06-10\n",
      "53/163 - Downloading data for 2017-06-11\n",
      "54/163 - Downloading data for 2017-06-12\n",
      "55/163 - Downloading data for 2017-06-13\n",
      "56/163 - Downloading data for 2017-06-14\n",
      "57/163 - Downloading data for 2017-06-15\n",
      "58/163 - Downloading data for 2017-06-16\n",
      "59/163 - Downloading data for 2017-06-17\n",
      "60/163 - Downloading data for 2017-06-18\n",
      "61/163 - Downloading data for 2017-06-19\n",
      "62/163 - Downloading data for 2017-06-20\n",
      "63/163 - Downloading data for 2017-06-21\n",
      "64/163 - Downloading data for 2017-06-22\n",
      "65/163 - Downloading data for 2017-06-23\n",
      "66/163 - Downloading data for 2017-06-24\n",
      "67/163 - Downloading data for 2017-06-25\n",
      "68/163 - Downloading data for 2017-06-26\n",
      "69/163 - Downloading data for 2017-06-27\n",
      "70/163 - Downloading data for 2017-06-28\n",
      "71/163 - Downloading data for 2017-06-29\n",
      "72/163 - Downloading data for 2017-06-30\n",
      "73/163 - Downloading data for 2017-07-01\n",
      "74/163 - Downloading data for 2017-07-02\n",
      "75/163 - Downloading data for 2017-07-03\n",
      "76/163 - Downloading data for 2017-07-04\n",
      "77/163 - Downloading data for 2017-07-05\n",
      "78/163 - Downloading data for 2017-07-06\n",
      "79/163 - Downloading data for 2017-07-07\n",
      "80/163 - Downloading data for 2017-07-08\n",
      "81/163 - Downloading data for 2017-07-09\n",
      "82/163 - Downloading data for 2017-07-10\n",
      "list index out of range: Unable to retrieve stats for 2017-07-10 and 0:00:00 range.\n",
      "83/163 - Downloading data for 2017-07-11\n",
      "list index out of range: Unable to retrieve stats for 2017-07-11 and 1 day, 0:00:00 range.\n",
      "list index out of range: Unable to retrieve stats for 2017-07-11 and 0:00:00 range.\n",
      "84/163 - Downloading data for 2017-07-12\n",
      "list index out of range: Unable to retrieve stats for 2017-07-12 and 1 day, 0:00:00 range.\n",
      "list index out of range: Unable to retrieve stats for 2017-07-12 and 0:00:00 range.\n",
      "85/163 - Downloading data for 2017-07-13\n",
      "list index out of range: Unable to retrieve stats for 2017-07-13 and 1 day, 0:00:00 range.\n",
      "list index out of range: Unable to retrieve stats for 2017-07-13 and 0:00:00 range.\n",
      "86/163 - Downloading data for 2017-07-14\n",
      "list index out of range: Unable to retrieve stats for 2017-07-14 and 1 day, 0:00:00 range.\n",
      "87/163 - Downloading data for 2017-07-15\n",
      "88/163 - Downloading data for 2017-07-16\n",
      "89/163 - Downloading data for 2017-07-17\n",
      "90/163 - Downloading data for 2017-07-18\n",
      "91/163 - Downloading data for 2017-07-19\n",
      "92/163 - Downloading data for 2017-07-20\n",
      "93/163 - Downloading data for 2017-07-21\n",
      "94/163 - Downloading data for 2017-07-22\n",
      "95/163 - Downloading data for 2017-07-23\n",
      "96/163 - Downloading data for 2017-07-24\n",
      "97/163 - Downloading data for 2017-07-25\n",
      "98/163 - Downloading data for 2017-07-26\n",
      "99/163 - Downloading data for 2017-07-27\n",
      "100/163 - Downloading data for 2017-07-28\n",
      "101/163 - Downloading data for 2017-07-29\n",
      "102/163 - Downloading data for 2017-07-30\n",
      "103/163 - Downloading data for 2017-07-31\n",
      "104/163 - Downloading data for 2017-08-01\n",
      "105/163 - Downloading data for 2017-08-02\n",
      "106/163 - Downloading data for 2017-08-03\n",
      "107/163 - Downloading data for 2017-08-04\n",
      "108/163 - Downloading data for 2017-08-05\n",
      "109/163 - Downloading data for 2017-08-06\n",
      "110/163 - Downloading data for 2017-08-07\n",
      "111/163 - Downloading data for 2017-08-08\n",
      "112/163 - Downloading data for 2017-08-09\n",
      "113/163 - Downloading data for 2017-08-10\n",
      "114/163 - Downloading data for 2017-08-11\n",
      "115/163 - Downloading data for 2017-08-12\n",
      "116/163 - Downloading data for 2017-08-13\n",
      "117/163 - Downloading data for 2017-08-14\n",
      "118/163 - Downloading data for 2017-08-15\n",
      "119/163 - Downloading data for 2017-08-16\n",
      "120/163 - Downloading data for 2017-08-17\n",
      "121/163 - Downloading data for 2017-08-18\n",
      "122/163 - Downloading data for 2017-08-19\n",
      "123/163 - Downloading data for 2017-08-20\n",
      "124/163 - Downloading data for 2017-08-21\n",
      "125/163 - Downloading data for 2017-08-22\n",
      "126/163 - Downloading data for 2017-08-23\n",
      "127/163 - Downloading data for 2017-08-24\n",
      "128/163 - Downloading data for 2017-08-25\n",
      "129/163 - Downloading data for 2017-08-26\n",
      "130/163 - Downloading data for 2017-08-27\n",
      "131/163 - Downloading data for 2017-08-28\n",
      "132/163 - Downloading data for 2017-08-29\n",
      "133/163 - Downloading data for 2017-08-30\n",
      "134/163 - Downloading data for 2017-08-31\n",
      "135/163 - Downloading data for 2017-09-01\n",
      "136/163 - Downloading data for 2017-09-02\n",
      "137/163 - Downloading data for 2017-09-03\n",
      "138/163 - Downloading data for 2017-09-04\n",
      "139/163 - Downloading data for 2017-09-05\n",
      "140/163 - Downloading data for 2017-09-06\n",
      "141/163 - Downloading data for 2017-09-07\n",
      "142/163 - Downloading data for 2017-09-08\n",
      "143/163 - Downloading data for 2017-09-09\n",
      "144/163 - Downloading data for 2017-09-10\n",
      "145/163 - Downloading data for 2017-09-11\n",
      "146/163 - Downloading data for 2017-09-12\n",
      "147/163 - Downloading data for 2017-09-13\n",
      "148/163 - Downloading data for 2017-09-14\n",
      "149/163 - Downloading data for 2017-09-15\n",
      "150/163 - Downloading data for 2017-09-16\n",
      "151/163 - Downloading data for 2017-09-17\n",
      "152/163 - Downloading data for 2017-09-18\n",
      "153/163 - Downloading data for 2017-09-19\n",
      "154/163 - Downloading data for 2017-09-20\n",
      "155/163 - Downloading data for 2017-09-21\n",
      "156/163 - Downloading data for 2017-09-22\n",
      "157/163 - Downloading data for 2017-09-23\n",
      "158/163 - Downloading data for 2017-09-24\n",
      "159/163 - Downloading data for 2017-09-25\n",
      "160/163 - Downloading data for 2017-09-26\n",
      "161/163 - Downloading data for 2017-09-27\n",
      "162/163 - Downloading data for 2017-09-28\n",
      "163/163 - Downloading data for 2017-09-29\n"
     ]
    }
   ],
   "source": [
    "data = retrieve_data([2017])"
   ]
  },
  {
   "cell_type": "code",
   "execution_count": 153,
   "metadata": {
    "ExecuteTime": {
     "end_time": "2018-06-03T05:23:24.415824Z",
     "start_time": "2018-06-03T05:23:24.411056Z"
    }
   },
   "outputs": [
    {
     "data": {
      "text/plain": [
       "45294"
      ]
     },
     "execution_count": 153,
     "metadata": {},
     "output_type": "execute_result"
    }
   ],
   "source": [
    "len(data)"
   ]
  },
  {
   "cell_type": "code",
   "execution_count": 154,
   "metadata": {
    "ExecuteTime": {
     "end_time": "2018-06-03T05:23:25.024638Z",
     "start_time": "2018-06-03T05:23:24.985028Z"
    }
   },
   "outputs": [],
   "source": [
    "from sklearn.model_selection import train_test_split\n",
    "\n",
    "train, test = train_test_split(data, test_size=0.2)"
   ]
  },
  {
   "cell_type": "markdown",
   "metadata": {
    "ExecuteTime": {
     "end_time": "2018-06-03T03:56:35.704502Z",
     "start_time": "2018-06-03T03:56:35.701611Z"
    }
   },
   "source": [
    "## Training and testing Linear Regression"
   ]
  },
  {
   "cell_type": "code",
   "execution_count": 159,
   "metadata": {
    "ExecuteTime": {
     "end_time": "2018-06-03T05:42:24.025070Z",
     "start_time": "2018-06-03T05:42:23.582010Z"
    }
   },
   "outputs": [
    {
     "data": {
      "text/plain": [
       "LinearRegression(copy_X=True, fit_intercept=True, n_jobs=-1, normalize=False)"
      ]
     },
     "execution_count": 159,
     "metadata": {},
     "output_type": "execute_result"
    }
   ],
   "source": [
    "from sklearn.linear_model import LinearRegression\n",
    "\n",
    "regr = LinearRegression(n_jobs=-1)\n",
    "regr.fit(train.values[:,1:len(train.values[0])-1], train.values[:,-1])"
   ]
  },
  {
   "cell_type": "code",
   "execution_count": 156,
   "metadata": {
    "ExecuteTime": {
     "end_time": "2018-06-03T05:23:26.690339Z",
     "start_time": "2018-06-03T05:23:26.575498Z"
    }
   },
   "outputs": [
    {
     "name": "stdout",
     "output_type": "stream",
     "text": [
      "Coefficients: \n",
      " [ 5.11707653e-02 -2.70180726e+00  2.59498989e+00  2.22597722e-01\n",
      "  2.18767165e-01  8.43613198e-02  4.51923780e-01  1.71378920e-01\n",
      "  1.69095917e-01  2.99907827e+00  2.93833064e-01 -1.83055893e-02\n",
      "  2.63991312e+00  3.62856272e+00  3.23932483e+00  5.62950374e-02\n",
      "  1.40792152e-01 -6.62955412e-01  2.27443360e+00 -8.63662329e-01\n",
      "  2.02649529e-01 -1.09711691e+00 -9.51320326e-02  1.09411872e+00\n",
      " -9.77868936e-01  1.29272479e-02 -6.83136120e-02  7.72860233e-02\n",
      " -7.59101724e-02 -1.60089569e-01  4.37396372e-02 -1.00285404e+00\n",
      " -5.89618700e-02 -3.82624020e-02 -9.83499206e-01 -1.33136108e+00\n",
      " -8.88842820e-01 -1.85102948e-01 -2.69514296e-02  1.52452530e-01\n",
      "  2.45623396e-02  5.42800115e-01  8.71400722e-01 -1.89387746e-01\n",
      " -2.02598894e-01  1.94782389e-01 -1.17256560e-01 -1.53335150e-02\n",
      " -2.87797272e-02 -8.59246946e-03 -7.93341716e-02  1.50329723e-01\n",
      " -3.04213099e-02 -1.14154921e-01  9.84109533e-02  2.00700589e-02\n",
      " -1.64825655e-01 -5.92292295e-01 -1.56223887e-01  1.74394185e-01\n",
      "  1.45856804e-01  5.08354199e-03 -7.09604288e+00 -3.03560460e-01\n",
      " -3.88572873e+00  7.09517990e+00]\n",
      "Mean squared error: 90.78\n",
      "Variance score: 0.07\n"
     ]
    }
   ],
   "source": [
    "# Make predictions using the testing set\n",
    "preds = regr.predict(test.values[:,1:len(test.values[0])-1])\n",
    "\n",
    "from sklearn.metrics import mean_squared_error, r2_score\n",
    "\n",
    "# The coefficients\n",
    "print('Coefficients: \\n', regr.coef_)\n",
    "# The mean squared error\n",
    "print(\"Mean squared error: %.2f\"\n",
    "      % mean_squared_error(test.values[:,-1], preds))\n",
    "# Explained variance score: 1 is perfect prediction\n",
    "print('Variance score: %.2f' % r2_score(test.values[:,-1], preds))"
   ]
  },
  {
   "cell_type": "code",
   "execution_count": 157,
   "metadata": {
    "ExecuteTime": {
     "end_time": "2018-06-03T05:39:46.431029Z",
     "start_time": "2018-06-03T05:23:27.150595Z"
    }
   },
   "outputs": [
    {
     "name": "stdout",
     "output_type": "stream",
     "text": [
      "Mean squared error: 95.94\n",
      "Variance score: 0.01\n"
     ]
    }
   ],
   "source": [
    "from sklearn.svm import SVR\n",
    "\n",
    "svr_rbf = SVR(kernel='rbf', C=1e3, gamma=0.1)\n",
    "\n",
    "X = train.values[:,1:len(train.values[0])-1]\n",
    "y = train.values[:,-1]\n",
    "test_X = test.values[:,1:len(test.values[0])-1]\n",
    "true_labels = test.values[:,-1]\n",
    "\n",
    "svr_rbf.fit(X, y)\n",
    "\n",
    "y_rbf = svr_rbf.predict(test_X)\n",
    "\n",
    "# The coefficients\n",
    "# print('Coefficients: \\n', svr_rbf)\n",
    "# The mean squared error\n",
    "print(\"Mean squared error: %.2f\"\n",
    "      % mean_squared_error(true_labels, y_rbf))\n",
    "# Explained variance score: 1 is perfect prediction\n",
    "print('Variance score: %.2f' % r2_score(true_labels, y_rbf))"
   ]
  },
  {
   "cell_type": "code",
   "execution_count": 173,
   "metadata": {
    "ExecuteTime": {
     "end_time": "2018-06-03T05:55:25.672871Z",
     "start_time": "2018-06-03T05:55:02.962003Z"
    }
   },
   "outputs": [
    {
     "data": {
      "application/vnd.jupyter.widget-view+json": {
       "model_id": "a65741609c784ef5b244c4721fa5f6a2",
       "version_major": 2,
       "version_minor": 0
      }
     },
     "metadata": {},
     "output_type": "display_data"
    }
   ],
   "source": [
    "from beakerx import TableDisplay\n",
    "TableDisplay(data)"
   ]
  },
  {
   "cell_type": "code",
   "execution_count": null,
   "metadata": {},
   "outputs": [],
   "source": []
  }
 ],
 "metadata": {
  "kernelspec": {
   "display_name": "Python 3",
   "language": "python",
   "name": "python3"
  },
  "language_info": {
   "codemirror_mode": {
    "name": "ipython",
    "version": 3
   },
   "file_extension": ".py",
   "mimetype": "text/x-python",
   "name": "python",
   "nbconvert_exporter": "python",
   "pygments_lexer": "ipython3",
   "version": "3.6.4"
  },
  "toc": {
   "base_numbering": 1,
   "nav_menu": {},
   "number_sections": true,
   "sideBar": true,
   "skip_h1_title": false,
   "title_cell": "Table of Contents",
   "title_sidebar": "Contents",
   "toc_cell": false,
   "toc_position": {},
   "toc_section_display": true,
   "toc_window_display": false
  },
  "varInspector": {
   "cols": {
    "lenName": 16,
    "lenType": 16,
    "lenVar": 40
   },
   "kernels_config": {
    "python": {
     "delete_cmd_postfix": "",
     "delete_cmd_prefix": "del ",
     "library": "var_list.py",
     "varRefreshCmd": "print(var_dic_list())"
    },
    "r": {
     "delete_cmd_postfix": ") ",
     "delete_cmd_prefix": "rm(",
     "library": "var_list.r",
     "varRefreshCmd": "cat(var_dic_list()) "
    }
   },
   "oldHeight": 526.181818,
   "position": {
    "height": "40px",
    "left": "1157.27px",
    "right": "20px",
    "top": "121px",
    "width": "350px"
   },
   "types_to_exclude": [
    "module",
    "function",
    "builtin_function_or_method",
    "instance",
    "_Feature"
   ],
   "varInspector_section_display": "none",
   "window_display": true
  }
 },
 "nbformat": 4,
 "nbformat_minor": 2
}
